{
 "cells": [
  {
   "cell_type": "code",
   "execution_count": null,
   "id": "ab26b100",
   "metadata": {},
   "outputs": [],
   "source": [
    "import dash\n",
    "from dash import dcc, html, Output, Input, State\n",
    "import plotly.express as px\n",
    "import pandas as pd\n",
    "import psycopg2\n",
    "\n",
    "# Connect to your PostgreSQL DB\n",
    "def get_buoy_locations():\n",
    "    conn = psycopg2.connect(\n",
    "        dbname=\"postgres\",\n",
    "        user=\"Jacob\",\n",
    "        password=\"\",\n",
    "        host=\"localhost\",\n",
    "        port=\"5432\"\n",
    "    )\n",
    "    df = pd.read_sql(\"SELECT station_id, name, lat, lon FROM buoys;\", conn)\n",
    "    conn.close()\n",
    "    return df\n",
    "\n",
    "# Initialize Dash app\n",
    "app = dash.Dash(__name__)\n",
    "app.title = \"Wave Power Dashboard\"\n",
    "\n",
    "# Load buoy data\n",
    "buoy_df = get_buoy_locations()\n",
    "\n",
    "# Create a map plot using Plotly\n",
    "fig = px.scatter_mapbox(\n",
    "    buoy_df,\n",
    "    lat=\"lat\",\n",
    "    lon=\"lon\",\n",
    "    hover_name=\"name\",\n",
    "    hover_data=[\"station_id\"],\n",
    "    zoom=2,\n",
    "    height=500\n",
    ")\n",
    "\n",
    "# Set the map style and access token\n",
    "fig.update_layout(mapbox_style=\"open-street-map\")\n",
    "fig.update_traces(marker=dict(size=12, color=\"royalblue\"))\n",
    "\n",
    "# Dash layout\n",
    "app.layout = html.Div([\n",
    "    html.H2(\"Select a Buoy\"),\n",
    "    dcc.Graph(id=\"buoy-map\", figure=fig),\n",
    "    html.Div(id=\"selected-buoy\", style={\"marginTop\": \"10px\", \"fontWeight\": \"bold\"})\n",
    "])"
   ]
  }
 ],
 "metadata": {
  "language_info": {
   "name": "python"
  }
 },
 "nbformat": 4,
 "nbformat_minor": 5
}
